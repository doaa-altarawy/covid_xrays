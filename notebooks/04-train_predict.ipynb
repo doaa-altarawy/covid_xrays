{
 "cells": [
  {
   "cell_type": "code",
   "execution_count": null,
   "metadata": {
    "colab": {
     "base_uri": "https://localhost:8080/"
    },
    "executionInfo": {
     "elapsed": 363,
     "status": "ok",
     "timestamp": 1605580278192,
     "user": {
      "displayName": "Doaa Altarawy",
      "photoUrl": "https://lh3.googleusercontent.com/a-/AOh14GgTyKaEU-p3dKM2bTRZzJsXYAyjJRA-Zt3-CkCTLA=s64",
      "userId": "15852237945509464181"
     },
     "user_tz": 300
    },
    "id": "VtQuTUbBzPA2",
    "outputId": "f52a2dbc-52e9-434e-ebd8-efe51aeaead0"
   },
   "outputs": [],
   "source": [
    "from google.colab import drive\n",
    "drive.mount('/content/drive')"
   ]
  },
  {
   "cell_type": "code",
   "execution_count": null,
   "metadata": {
    "id": "FRPBenhQyZYY"
   },
   "outputs": [],
   "source": [
    "%cd \"/content/drive/MyDrive/Deep_Learning_course_VT/DL project/covid_xrays_model\"\n",
    "%pip install -e ."
   ]
  },
  {
   "cell_type": "code",
   "execution_count": 6,
   "metadata": {
    "executionInfo": {
     "elapsed": 301,
     "status": "ok",
     "timestamp": 1605580291187,
     "user": {
      "displayName": "Doaa Altarawy",
      "photoUrl": "https://lh3.googleusercontent.com/a-/AOh14GgTyKaEU-p3dKM2bTRZzJsXYAyjJRA-Zt3-CkCTLA=s64",
      "userId": "15852237945509464181"
     },
     "user_tz": 300
    },
    "id": "Ncnlk4spyZYl"
   },
   "outputs": [],
   "source": [
    "import numpy as np\n",
    "import os\n",
    "import matplotlib.pyplot as plt\n",
    "\n",
    "# from covid_xrays_model import config\n",
    "\n",
    "from fastai.vision import DatasetType\n",
    "import pandas as pd\n",
    "import joblib\n",
    "from covid_xrays_model.processing.data_management import load_dataset\n",
    "from covid_xrays_model.predict import predict_dataset\n",
    "from covid_xrays_model.train_pipeline import run_training_sample\n",
    "\n",
    "import warnings\n",
    "warnings.filterwarnings('ignore')"
   ]
  },
  {
   "cell_type": "markdown",
   "metadata": {
    "id": "bWWyBZG0yZYp"
   },
   "source": [
    "# Set your data path here"
   ]
  },
  {
   "cell_type": "code",
   "execution_count": 2,
   "metadata": {
    "executionInfo": {
     "elapsed": 441,
     "status": "ok",
     "timestamp": 1605580294301,
     "user": {
      "displayName": "Doaa Altarawy",
      "photoUrl": "https://lh3.googleusercontent.com/a-/AOh14GgTyKaEU-p3dKM2bTRZzJsXYAyjJRA-Zt3-CkCTLA=s64",
      "userId": "15852237945509464181"
     },
     "user_tz": 300
    },
    "id": "o1W5ZKWkyZYq"
   },
   "outputs": [],
   "source": [
    "os.environ['DATA_DIR'] = '/home/doaa/Git/covid_xrays/data'\n",
    "# os.environ['DATA_DIR'] = \"/content/drive/MyDrive/Deep_Learning_course_VT/DL project/data\""
   ]
  },
  {
   "cell_type": "markdown",
   "metadata": {
    "id": "RqP07KaNyZYu"
   },
   "source": [
    "# FASTAI classification model"
   ]
  },
  {
   "cell_type": "code",
   "execution_count": null,
   "metadata": {
    "colab": {
     "base_uri": "https://localhost:8080/"
    },
    "executionInfo": {
     "elapsed": 18277,
     "status": "ok",
     "timestamp": 1605562221996,
     "user": {
      "displayName": "Doaa Altarawy",
      "photoUrl": "https://lh3.googleusercontent.com/a-/AOh14GgTyKaEU-p3dKM2bTRZzJsXYAyjJRA-Zt3-CkCTLA=s64",
      "userId": "15852237945509464181"
     },
     "user_tz": 300
    },
    "id": "t6l6EG_PyZYv",
    "outputId": "7cd3cd82-7113-4bf9-ebc2-36b9f736d027"
   },
   "outputs": [],
   "source": [
    "data = load_dataset(image_size=224, sample_size=5000)\n",
    "data"
   ]
  },
  {
   "cell_type": "code",
   "execution_count": null,
   "metadata": {
    "colab": {
     "base_uri": "https://localhost:8080/",
     "height": 585
    },
    "executionInfo": {
     "elapsed": 14547,
     "status": "ok",
     "timestamp": 1605562243776,
     "user": {
      "displayName": "Doaa Altarawy",
      "photoUrl": "https://lh3.googleusercontent.com/a-/AOh14GgTyKaEU-p3dKM2bTRZzJsXYAyjJRA-Zt3-CkCTLA=s64",
      "userId": "15852237945509464181"
     },
     "user_tz": 300
    },
    "id": "1Db3XOQtyZY0",
    "outputId": "4eeeefdd-b6f8-4ddb-a34b-0a6890e488da"
   },
   "outputs": [],
   "source": [
    "data.show_batch(rows=3, figsize=(10,8), ds_type=DatasetType.Train)\n"
   ]
  },
  {
   "cell_type": "code",
   "execution_count": null,
   "metadata": {
    "colab": {
     "base_uri": "https://localhost:8080/"
    },
    "executionInfo": {
     "elapsed": 486,
     "status": "ok",
     "timestamp": 1605562251195,
     "user": {
      "displayName": "Doaa Altarawy",
      "photoUrl": "https://lh3.googleusercontent.com/a-/AOh14GgTyKaEU-p3dKM2bTRZzJsXYAyjJRA-Zt3-CkCTLA=s64",
      "userId": "15852237945509464181"
     },
     "user_tz": 300
    },
    "id": "kj1hyvzAyZY4",
    "outputId": "17fa5bbd-8499-4ca8-fa25-22f686d1b3fc"
   },
   "outputs": [],
   "source": [
    "# data.train_ds\n",
    "data.classes, len(data.train_ds), len(data.valid_ds), data.c"
   ]
  },
  {
   "cell_type": "code",
   "execution_count": null,
   "metadata": {
    "id": "JPoY4KuFyZY8"
   },
   "outputs": [],
   "source": [
    "# data.test_ds[0][0]"
   ]
  },
  {
   "cell_type": "markdown",
   "metadata": {
    "id": "XuzD6wYjyZZB"
   },
   "source": [
    "# Run training"
   ]
  },
  {
   "cell_type": "code",
   "execution_count": 7,
   "metadata": {
    "executionInfo": {
     "elapsed": 285,
     "status": "ok",
     "timestamp": 1605580319666,
     "user": {
      "displayName": "Doaa Altarawy",
      "photoUrl": "https://lh3.googleusercontent.com/a-/AOh14GgTyKaEU-p3dKM2bTRZzJsXYAyjJRA-Zt3-CkCTLA=s64",
      "userId": "15852237945509464181"
     },
     "user_tz": 300
    },
    "id": "rhkaKwuNC2K8"
   },
   "outputs": [
    {
     "name": "stdout",
     "output_type": "stream",
     "text": [
      "conf_mat_5000_0\n"
     ]
    }
   ],
   "source": [
    "sample_size = 5000  # number of training images per class\n",
    "percent_gan_images = 0  # 25%\n",
    "confusion_matrix_filename = f'conf_mat_{sample_size}_{percent_gan_images}'\n",
    "print(confusion_matrix_filename)"
   ]
  },
  {
   "cell_type": "code",
   "execution_count": null,
   "metadata": {
    "colab": {
     "base_uri": "https://localhost:8080/",
     "height": 1000
    },
    "executionInfo": {
     "elapsed": 7634060,
     "status": "ok",
     "timestamp": 1605577115541,
     "user": {
      "displayName": "Doaa Altarawy",
      "photoUrl": "https://lh3.googleusercontent.com/a-/AOh14GgTyKaEU-p3dKM2bTRZzJsXYAyjJRA-Zt3-CkCTLA=s64",
      "userId": "15852237945509464181"
     },
     "user_tz": 300
    },
    "id": "F-v8S770yZZC",
    "outputId": "45e676ea-53c9-48e1-9cbe-b9b43769b17c"
   },
   "outputs": [],
   "source": [
    "run_training_sample(n_cycles=10,\n",
    "                    sample_size=sample_size, \n",
    "                    percent_gan_images=percent_gan_images,   # Percent of GAN generated COVID images to add\n",
    "                    confusion_matrix_filename=confusion_matrix_filename,\n",
    "                    with_oversampling=True,     # always use True\n",
    "                    with_weighted_loss=True)   # always use True"
   ]
  },
  {
   "cell_type": "markdown",
   "metadata": {
    "id": "xzxOrfE3yZZH"
   },
   "source": [
    "### Load training Confusion Matrix"
   ]
  },
  {
   "cell_type": "code",
   "execution_count": null,
   "metadata": {
    "colab": {
     "base_uri": "https://localhost:8080/"
    },
    "executionInfo": {
     "elapsed": 539,
     "status": "ok",
     "timestamp": 1605580325501,
     "user": {
      "displayName": "Doaa Altarawy",
      "photoUrl": "https://lh3.googleusercontent.com/a-/AOh14GgTyKaEU-p3dKM2bTRZzJsXYAyjJRA-Zt3-CkCTLA=s64",
      "userId": "15852237945509464181"
     },
     "user_tz": 300
    },
    "id": "IMpVkK1NyZZH",
    "outputId": "731ed0ef-ffbe-4e3c-dbec-431226990cb9"
   },
   "outputs": [],
   "source": [
    "train_mat = joblib.load(f'train_{confusion_matrix_filename}.pkl')\n",
    "# sum diagonal / all data_size *100\n",
    "accuracy = np.trace(train_mat) / train_mat.sum() * 100\n",
    "\n",
    "print(f'Accuracy: {accuracy:.2f}%')\n",
    "print(f'Confusion Matrix:\\n {train_mat}')"
   ]
  },
  {
   "cell_type": "markdown",
   "metadata": {
    "id": "CKa_PGFKyZZM"
   },
   "source": [
    "### For Validation confusion Matrix"
   ]
  },
  {
   "cell_type": "code",
   "execution_count": null,
   "metadata": {
    "colab": {
     "base_uri": "https://localhost:8080/"
    },
    "executionInfo": {
     "elapsed": 290,
     "status": "ok",
     "timestamp": 1605580329014,
     "user": {
      "displayName": "Doaa Altarawy",
      "photoUrl": "https://lh3.googleusercontent.com/a-/AOh14GgTyKaEU-p3dKM2bTRZzJsXYAyjJRA-Zt3-CkCTLA=s64",
      "userId": "15852237945509464181"
     },
     "user_tz": 300
    },
    "id": "eXfBhG3xyZZN",
    "outputId": "5cbdc4c5-c43f-4ce5-aeff-a3cc9377dc22"
   },
   "outputs": [],
   "source": [
    "valid_mat = joblib.load(f'valid_{confusion_matrix_filename}.pkl')\n",
    "# sum diagonal / all data_size *100\n",
    "accuracy = np.trace(valid_mat) / valid_mat.sum() * 100\n",
    "\n",
    "print(f'Accuracy: {accuracy:.2f}%')\n",
    "print(f'Confusion Matrix:\\n {valid_mat}')"
   ]
  },
  {
   "cell_type": "markdown",
   "metadata": {
    "id": "NZOIj7MYyZZQ"
   },
   "source": [
    "# Run evaluation (model has to be already trained) - slow on CPU"
   ]
  },
  {
   "cell_type": "code",
   "execution_count": 15,
   "metadata": {
    "colab": {
     "base_uri": "https://localhost:8080/",
     "height": 592
    },
    "executionInfo": {
     "elapsed": 365333,
     "status": "ok",
     "timestamp": 1605580705240,
     "user": {
      "displayName": "Doaa Altarawy",
      "photoUrl": "https://lh3.googleusercontent.com/a-/AOh14GgTyKaEU-p3dKM2bTRZzJsXYAyjJRA-Zt3-CkCTLA=s64",
      "userId": "15852237945509464181"
     },
     "user_tz": 300
    },
    "id": "OBKVxDP0yZZR",
    "outputId": "3efa2bcd-be5c-4710-8e04-305134d43b35",
    "scrolled": true
   },
   "outputs": [
    {
     "name": "stdout",
     "output_type": "stream",
     "text": [
      "2020-12-02 14:14:43,724 — covid_xrays_model.processing.data_management — INFO —load_saved_learner:124 — Loading model from: covid_xrays_model_output_v0.0.3_oversampling_5001.pkl\n",
      "2020-12-02 14:14:43,726 — covid_xrays_model.processing.data_management — INFO —load_saved_learner:125 — Device: cpu\n"
     ]
    },
    {
     "ename": "AttributeError",
     "evalue": "'PosixPath' object has no attribute 'tell'",
     "output_type": "error",
     "traceback": [
      "\u001b[0;31m---------------------------------------------------------------------------\u001b[0m",
      "\u001b[0;31mAttributeError\u001b[0m                            Traceback (most recent call last)",
      "\u001b[0;32m<ipython-input-15-7a8a3adffc4a>\u001b[0m in \u001b[0;36m<module>\u001b[0;34m\u001b[0m\n\u001b[1;32m      7\u001b[0m \u001b[0;31m# print(confusion_matrix_filename)\u001b[0m\u001b[0;34m\u001b[0m\u001b[0;34m\u001b[0m\u001b[0;34m\u001b[0m\u001b[0m\n\u001b[1;32m      8\u001b[0m \u001b[0;34m\u001b[0m\u001b[0m\n\u001b[0;32m----> 9\u001b[0;31m test_conf_mat, test_accuracy = predict_dataset(ds_type='test', \n\u001b[0m\u001b[1;32m     10\u001b[0m                                                \u001b[0mcpu\u001b[0m\u001b[0;34m=\u001b[0m\u001b[0;32mFalse\u001b[0m\u001b[0;34m,\u001b[0m   \u001b[0;31m# set to False if running on GPUs\u001b[0m\u001b[0;34m\u001b[0m\u001b[0;34m\u001b[0m\u001b[0m\n\u001b[1;32m     11\u001b[0m                                                \u001b[0msample_size\u001b[0m\u001b[0;34m=\u001b[0m\u001b[0msample_size\u001b[0m\u001b[0;34m,\u001b[0m\u001b[0;34m\u001b[0m\u001b[0;34m\u001b[0m\u001b[0m\n",
      "\u001b[0;32m~/Git/covid_xrays/covid_xrays_model/covid_xrays_model/predict.py\u001b[0m in \u001b[0;36mpredict_dataset\u001b[0;34m(ds_type, cpu, sample_size, with_oversampling, with_focal_loss, with_weighted_loss, confusion_matrix_filename, percent_gan_images)\u001b[0m\n\u001b[1;32m     41\u001b[0m                     percent_gan_images=None):\n\u001b[1;32m     42\u001b[0m \u001b[0;34m\u001b[0m\u001b[0m\n\u001b[0;32m---> 43\u001b[0;31m     learn = load_saved_learner(sample_size=sample_size,\n\u001b[0m\u001b[1;32m     44\u001b[0m                                \u001b[0mwith_oversampling\u001b[0m\u001b[0;34m=\u001b[0m\u001b[0mwith_oversampling\u001b[0m\u001b[0;34m,\u001b[0m\u001b[0;34m\u001b[0m\u001b[0;34m\u001b[0m\u001b[0m\n\u001b[1;32m     45\u001b[0m                                \u001b[0mwith_focal_loss\u001b[0m\u001b[0;34m=\u001b[0m\u001b[0mwith_focal_loss\u001b[0m\u001b[0;34m,\u001b[0m\u001b[0;34m\u001b[0m\u001b[0;34m\u001b[0m\u001b[0m\n",
      "\u001b[0;32m~/Git/covid_xrays/covid_xrays_model/covid_xrays_model/processing/data_management.py\u001b[0m in \u001b[0;36mload_saved_learner\u001b[0;34m(with_focal_loss, with_oversampling, sample_size, with_weighted_loss, cpu, percent_gan_images)\u001b[0m\n\u001b[1;32m    128\u001b[0m         \u001b[0mlearn\u001b[0m \u001b[0;34m=\u001b[0m \u001b[0mlearner_cache\u001b[0m\u001b[0;34m[\u001b[0m\u001b[0msave_file_name\u001b[0m\u001b[0;34m]\u001b[0m\u001b[0;34m\u001b[0m\u001b[0;34m\u001b[0m\u001b[0m\n\u001b[1;32m    129\u001b[0m     \u001b[0;32melse\u001b[0m\u001b[0;34m:\u001b[0m\u001b[0;34m\u001b[0m\u001b[0;34m\u001b[0m\u001b[0m\n\u001b[0;32m--> 130\u001b[0;31m         \u001b[0mlearn\u001b[0m \u001b[0;34m=\u001b[0m \u001b[0mload_learner\u001b[0m\u001b[0;34m(\u001b[0m\u001b[0mconfig\u001b[0m\u001b[0;34m.\u001b[0m\u001b[0mTRAINED_MODEL_DIR\u001b[0m\u001b[0;34m,\u001b[0m \u001b[0msave_file_name\u001b[0m\u001b[0;34m)\u001b[0m\u001b[0;34m\u001b[0m\u001b[0;34m\u001b[0m\u001b[0m\n\u001b[0m\u001b[1;32m    131\u001b[0m \u001b[0;34m\u001b[0m\u001b[0m\n\u001b[1;32m    132\u001b[0m     \u001b[0;31m# layers_file = f'{config.TRAINED_MODEL_DIR}/{save_file_name}_layer_groups'\u001b[0m\u001b[0;34m\u001b[0m\u001b[0;34m\u001b[0m\u001b[0;34m\u001b[0m\u001b[0m\n",
      "\u001b[0;32m~/anaconda/envs/xrays/lib/python3.8/site-packages/fastai/basic_train.py\u001b[0m in \u001b[0;36mload_learner\u001b[0;34m(path, file, test, tfm_y, **db_kwargs)\u001b[0m\n\u001b[1;32m    619\u001b[0m     \u001b[0;34m\"Load a `Learner` object saved with `export_state` in `path/file` with empty data, optionally add `test` and load on `cpu`. `file` can be file-like (file or buffer)\"\u001b[0m\u001b[0;34m\u001b[0m\u001b[0;34m\u001b[0m\u001b[0m\n\u001b[1;32m    620\u001b[0m     \u001b[0msource\u001b[0m \u001b[0;34m=\u001b[0m \u001b[0mPath\u001b[0m\u001b[0;34m(\u001b[0m\u001b[0mpath\u001b[0m\u001b[0;34m)\u001b[0m\u001b[0;34m/\u001b[0m\u001b[0mfile\u001b[0m \u001b[0;32mif\u001b[0m \u001b[0mis_pathlike\u001b[0m\u001b[0;34m(\u001b[0m\u001b[0mfile\u001b[0m\u001b[0;34m)\u001b[0m \u001b[0;32melse\u001b[0m \u001b[0mfile\u001b[0m\u001b[0;34m\u001b[0m\u001b[0;34m\u001b[0m\u001b[0m\n\u001b[0;32m--> 621\u001b[0;31m     \u001b[0mstate\u001b[0m \u001b[0;34m=\u001b[0m \u001b[0mtorch\u001b[0m\u001b[0;34m.\u001b[0m\u001b[0mload\u001b[0m\u001b[0;34m(\u001b[0m\u001b[0msource\u001b[0m\u001b[0;34m,\u001b[0m \u001b[0mmap_location\u001b[0m\u001b[0;34m=\u001b[0m\u001b[0;34m'cpu'\u001b[0m\u001b[0;34m)\u001b[0m \u001b[0;32mif\u001b[0m \u001b[0mdefaults\u001b[0m\u001b[0;34m.\u001b[0m\u001b[0mdevice\u001b[0m \u001b[0;34m==\u001b[0m \u001b[0mtorch\u001b[0m\u001b[0;34m.\u001b[0m\u001b[0mdevice\u001b[0m\u001b[0;34m(\u001b[0m\u001b[0;34m'cpu'\u001b[0m\u001b[0;34m)\u001b[0m \u001b[0;32melse\u001b[0m \u001b[0mtorch\u001b[0m\u001b[0;34m.\u001b[0m\u001b[0mload\u001b[0m\u001b[0;34m(\u001b[0m\u001b[0msource\u001b[0m\u001b[0;34m)\u001b[0m\u001b[0;34m\u001b[0m\u001b[0;34m\u001b[0m\u001b[0m\n\u001b[0m\u001b[1;32m    622\u001b[0m     \u001b[0mmodel\u001b[0m \u001b[0;34m=\u001b[0m \u001b[0mstate\u001b[0m\u001b[0;34m.\u001b[0m\u001b[0mpop\u001b[0m\u001b[0;34m(\u001b[0m\u001b[0;34m'model'\u001b[0m\u001b[0;34m)\u001b[0m\u001b[0;34m\u001b[0m\u001b[0;34m\u001b[0m\u001b[0m\n\u001b[1;32m    623\u001b[0m     \u001b[0msrc\u001b[0m \u001b[0;34m=\u001b[0m \u001b[0mLabelLists\u001b[0m\u001b[0;34m.\u001b[0m\u001b[0mload_state\u001b[0m\u001b[0;34m(\u001b[0m\u001b[0mpath\u001b[0m\u001b[0;34m,\u001b[0m \u001b[0mstate\u001b[0m\u001b[0;34m.\u001b[0m\u001b[0mpop\u001b[0m\u001b[0;34m(\u001b[0m\u001b[0;34m'data'\u001b[0m\u001b[0;34m)\u001b[0m\u001b[0;34m)\u001b[0m\u001b[0;34m\u001b[0m\u001b[0;34m\u001b[0m\u001b[0m\n",
      "\u001b[0;32m~/anaconda/envs/xrays/lib/python3.8/site-packages/torch/serialization.py\u001b[0m in \u001b[0;36mload\u001b[0;34m(f, map_location, pickle_module, **pickle_load_args)\u001b[0m\n\u001b[1;32m    525\u001b[0m     \u001b[0;32mwith\u001b[0m \u001b[0m_open_file_like\u001b[0m\u001b[0;34m(\u001b[0m\u001b[0mf\u001b[0m\u001b[0;34m,\u001b[0m \u001b[0;34m'rb'\u001b[0m\u001b[0;34m)\u001b[0m \u001b[0;32mas\u001b[0m \u001b[0mopened_file\u001b[0m\u001b[0;34m:\u001b[0m\u001b[0;34m\u001b[0m\u001b[0;34m\u001b[0m\u001b[0m\n\u001b[1;32m    526\u001b[0m         \u001b[0;32mif\u001b[0m \u001b[0m_is_zipfile\u001b[0m\u001b[0;34m(\u001b[0m\u001b[0mopened_file\u001b[0m\u001b[0;34m)\u001b[0m\u001b[0;34m:\u001b[0m\u001b[0;34m\u001b[0m\u001b[0;34m\u001b[0m\u001b[0m\n\u001b[0;32m--> 527\u001b[0;31m             \u001b[0;32mwith\u001b[0m \u001b[0m_open_zipfile_reader\u001b[0m\u001b[0;34m(\u001b[0m\u001b[0mf\u001b[0m\u001b[0;34m)\u001b[0m \u001b[0;32mas\u001b[0m \u001b[0mopened_zipfile\u001b[0m\u001b[0;34m:\u001b[0m\u001b[0;34m\u001b[0m\u001b[0;34m\u001b[0m\u001b[0m\n\u001b[0m\u001b[1;32m    528\u001b[0m                 \u001b[0;32mreturn\u001b[0m \u001b[0m_load\u001b[0m\u001b[0;34m(\u001b[0m\u001b[0mopened_zipfile\u001b[0m\u001b[0;34m,\u001b[0m \u001b[0mmap_location\u001b[0m\u001b[0;34m,\u001b[0m \u001b[0mpickle_module\u001b[0m\u001b[0;34m,\u001b[0m \u001b[0;34m**\u001b[0m\u001b[0mpickle_load_args\u001b[0m\u001b[0;34m)\u001b[0m\u001b[0;34m\u001b[0m\u001b[0;34m\u001b[0m\u001b[0m\n\u001b[1;32m    529\u001b[0m         \u001b[0;32mreturn\u001b[0m \u001b[0m_legacy_load\u001b[0m\u001b[0;34m(\u001b[0m\u001b[0mopened_file\u001b[0m\u001b[0;34m,\u001b[0m \u001b[0mmap_location\u001b[0m\u001b[0;34m,\u001b[0m \u001b[0mpickle_module\u001b[0m\u001b[0;34m,\u001b[0m \u001b[0;34m**\u001b[0m\u001b[0mpickle_load_args\u001b[0m\u001b[0;34m)\u001b[0m\u001b[0;34m\u001b[0m\u001b[0;34m\u001b[0m\u001b[0m\n",
      "\u001b[0;32m~/anaconda/envs/xrays/lib/python3.8/site-packages/torch/serialization.py\u001b[0m in \u001b[0;36m__init__\u001b[0;34m(self, name_or_buffer)\u001b[0m\n\u001b[1;32m    222\u001b[0m \u001b[0;32mclass\u001b[0m \u001b[0m_open_zipfile_reader\u001b[0m\u001b[0;34m(\u001b[0m\u001b[0m_opener\u001b[0m\u001b[0;34m)\u001b[0m\u001b[0;34m:\u001b[0m\u001b[0;34m\u001b[0m\u001b[0;34m\u001b[0m\u001b[0m\n\u001b[1;32m    223\u001b[0m     \u001b[0;32mdef\u001b[0m \u001b[0m__init__\u001b[0m\u001b[0;34m(\u001b[0m\u001b[0mself\u001b[0m\u001b[0;34m,\u001b[0m \u001b[0mname_or_buffer\u001b[0m\u001b[0;34m)\u001b[0m\u001b[0;34m:\u001b[0m\u001b[0;34m\u001b[0m\u001b[0;34m\u001b[0m\u001b[0m\n\u001b[0;32m--> 224\u001b[0;31m         \u001b[0msuper\u001b[0m\u001b[0;34m(\u001b[0m\u001b[0m_open_zipfile_reader\u001b[0m\u001b[0;34m,\u001b[0m \u001b[0mself\u001b[0m\u001b[0;34m)\u001b[0m\u001b[0;34m.\u001b[0m\u001b[0m__init__\u001b[0m\u001b[0;34m(\u001b[0m\u001b[0mtorch\u001b[0m\u001b[0;34m.\u001b[0m\u001b[0m_C\u001b[0m\u001b[0;34m.\u001b[0m\u001b[0mPyTorchFileReader\u001b[0m\u001b[0;34m(\u001b[0m\u001b[0mname_or_buffer\u001b[0m\u001b[0;34m)\u001b[0m\u001b[0;34m)\u001b[0m\u001b[0;34m\u001b[0m\u001b[0;34m\u001b[0m\u001b[0m\n\u001b[0m\u001b[1;32m    225\u001b[0m \u001b[0;34m\u001b[0m\u001b[0m\n\u001b[1;32m    226\u001b[0m \u001b[0;34m\u001b[0m\u001b[0m\n",
      "\u001b[0;31mAttributeError\u001b[0m: 'PosixPath' object has no attribute 'tell'"
     ]
    }
   ],
   "source": [
    "# Evaluate test set (ds_type='test')\n",
    "# Will load the correct saved model based on the given parameters\n",
    "\n",
    "# sample_size = 5001\n",
    "# percent_gan_images = 0  \n",
    "# confusion_matrix_filename = f'conf_mat_{sample_size}_{percent_gan_images}'\n",
    "# print(confusion_matrix_filename)\n",
    "\n",
    "test_conf_mat, test_accuracy = predict_dataset(ds_type='test', \n",
    "                                               cpu=False,   # set to False if running on GPUs\n",
    "                                               sample_size=sample_size,  \n",
    "                                               percent_gan_images=percent_gan_images,\n",
    "                                               with_oversampling=True,   # always use True\n",
    "                                               with_weighted_loss=False,  # always use True\n",
    "                                               confusion_matrix_filename=confusion_matrix_filename\n",
    "                                              )"
   ]
  },
  {
   "cell_type": "code",
   "execution_count": 11,
   "metadata": {
    "colab": {
     "base_uri": "https://localhost:8080/"
    },
    "executionInfo": {
     "elapsed": 324,
     "status": "ok",
     "timestamp": 1605580727198,
     "user": {
      "displayName": "Doaa Altarawy",
      "photoUrl": "https://lh3.googleusercontent.com/a-/AOh14GgTyKaEU-p3dKM2bTRZzJsXYAyjJRA-Zt3-CkCTLA=s64",
      "userId": "15852237945509464181"
     },
     "user_tz": 300
    },
    "id": "otKqjD8YyZZU",
    "outputId": "dd139b38-b6fb-4178-c27e-329b957479f8"
   },
   "outputs": [
    {
     "name": "stdout",
     "output_type": "stream",
     "text": [
      "Test Accuracy: 97.09%\n",
      "Test Confusion Matrix:\n",
      " [[ 98   2   0]\n",
      " [  0 865  20]\n",
      " [  0  24 570]]\n"
     ]
    }
   ],
   "source": [
    "test_conf_mat = joblib.load(f'test_{confusion_matrix_filename}.pkl')\n",
    "# sum diagonal / all data_size *100\n",
    "test_accuracy = np.trace(test_conf_mat) / test_conf_mat.sum() * 100\n",
    "\n",
    "print(f'Test Accuracy: {test_accuracy:.2f}%')\n",
    "print(f'Test Confusion Matrix:\\n {test_conf_mat}') "
   ]
  },
  {
   "cell_type": "code",
   "execution_count": null,
   "metadata": {
    "id": "PmikOIbWyZZZ",
    "scrolled": true
   },
   "outputs": [],
   "source": []
  },
  {
   "cell_type": "markdown",
   "metadata": {
    "id": "hcbp3yqxyZZd"
   },
   "source": [
    "# Play with the model"
   ]
  },
  {
   "cell_type": "code",
   "execution_count": null,
   "metadata": {
    "id": "yvpEAoVoyZZd",
    "outputId": "e1cdcf7d-f58c-4783-9e87-7ed662b2e596"
   },
   "outputs": [],
   "source": [
    "learn.predict(data.test_ds[0][0])"
   ]
  },
  {
   "cell_type": "code",
   "execution_count": null,
   "metadata": {
    "id": "gGPxSNmUyZZh"
   },
   "outputs": [],
   "source": []
  },
  {
   "cell_type": "code",
   "execution_count": null,
   "metadata": {},
   "outputs": [],
   "source": []
  }
 ],
 "metadata": {
  "accelerator": "GPU",
  "colab": {
   "collapsed_sections": [],
   "name": "04-train_predict.ipynb",
   "provenance": []
  },
  "kernelspec": {
   "display_name": "Python 3",
   "language": "python",
   "name": "python3"
  },
  "language_info": {
   "codemirror_mode": {
    "name": "ipython",
    "version": 3
   },
   "file_extension": ".py",
   "mimetype": "text/x-python",
   "name": "python",
   "nbconvert_exporter": "python",
   "pygments_lexer": "ipython3",
   "version": "3.8.3"
  }
 },
 "nbformat": 4,
 "nbformat_minor": 1
}
