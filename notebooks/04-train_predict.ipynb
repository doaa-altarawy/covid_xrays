{
 "cells": [
  {
   "cell_type": "code",
   "execution_count": null,
   "metadata": {
    "colab": {
     "base_uri": "https://localhost:8080/"
    },
    "executionInfo": {
     "elapsed": 363,
     "status": "ok",
     "timestamp": 1605580278192,
     "user": {
      "displayName": "Doaa Altarawy",
      "photoUrl": "https://lh3.googleusercontent.com/a-/AOh14GgTyKaEU-p3dKM2bTRZzJsXYAyjJRA-Zt3-CkCTLA=s64",
      "userId": "15852237945509464181"
     },
     "user_tz": 300
    },
    "id": "VtQuTUbBzPA2",
    "outputId": "f52a2dbc-52e9-434e-ebd8-efe51aeaead0"
   },
   "outputs": [],
   "source": [
    "from google.colab import drive\n",
    "drive.mount('/content/drive')"
   ]
  },
  {
   "cell_type": "code",
   "execution_count": null,
   "metadata": {
    "id": "FRPBenhQyZYY"
   },
   "outputs": [],
   "source": [
    "%cd \"/content/drive/MyDrive/Deep_Learning_course_VT/DL project/covid_xrays_model\"\n",
    "%pip install -e ."
   ]
  },
  {
   "cell_type": "code",
   "execution_count": null,
   "metadata": {
    "executionInfo": {
     "elapsed": 301,
     "status": "ok",
     "timestamp": 1605580291187,
     "user": {
      "displayName": "Doaa Altarawy",
      "photoUrl": "https://lh3.googleusercontent.com/a-/AOh14GgTyKaEU-p3dKM2bTRZzJsXYAyjJRA-Zt3-CkCTLA=s64",
      "userId": "15852237945509464181"
     },
     "user_tz": 300
    },
    "id": "Ncnlk4spyZYl"
   },
   "outputs": [],
   "source": [
    "import numpy as np\n",
    "import os\n",
    "import matplotlib.pyplot as plt\n",
    "\n",
    "# from covid_xrays_model import config\n",
    "\n",
    "from fastai.vision import DatasetType\n",
    "import pandas as pd\n",
    "import joblib\n",
    "from covid_xrays_model.processing.data_management import load_dataset\n",
    "from covid_xrays_model.predict import predict_dataset\n",
    "from covid_xrays_model.train_pipeline import run_training_sample\n",
    "\n",
    "import warnings\n",
    "warnings.filterwarnings('ignore')"
   ]
  },
  {
   "cell_type": "markdown",
   "metadata": {
    "id": "bWWyBZG0yZYp"
   },
   "source": [
    "# Set your data path here"
   ]
  },
  {
   "cell_type": "code",
   "execution_count": null,
   "metadata": {
    "executionInfo": {
     "elapsed": 441,
     "status": "ok",
     "timestamp": 1605580294301,
     "user": {
      "displayName": "Doaa Altarawy",
      "photoUrl": "https://lh3.googleusercontent.com/a-/AOh14GgTyKaEU-p3dKM2bTRZzJsXYAyjJRA-Zt3-CkCTLA=s64",
      "userId": "15852237945509464181"
     },
     "user_tz": 300
    },
    "id": "o1W5ZKWkyZYq"
   },
   "outputs": [],
   "source": [
    "os.environ['DATA_DIR'] = '/home/doaa/Git/covid_xrays/data'\n",
    "# os.environ['DATA_DIR'] = \"/content/drive/MyDrive/Deep_Learning_course_VT/DL project/data\""
   ]
  },
  {
   "cell_type": "markdown",
   "metadata": {
    "id": "RqP07KaNyZYu"
   },
   "source": [
    "# FASTAI classification model"
   ]
  },
  {
   "cell_type": "code",
   "execution_count": null,
   "metadata": {
    "colab": {
     "base_uri": "https://localhost:8080/"
    },
    "executionInfo": {
     "elapsed": 18277,
     "status": "ok",
     "timestamp": 1605562221996,
     "user": {
      "displayName": "Doaa Altarawy",
      "photoUrl": "https://lh3.googleusercontent.com/a-/AOh14GgTyKaEU-p3dKM2bTRZzJsXYAyjJRA-Zt3-CkCTLA=s64",
      "userId": "15852237945509464181"
     },
     "user_tz": 300
    },
    "id": "t6l6EG_PyZYv",
    "outputId": "7cd3cd82-7113-4bf9-ebc2-36b9f736d027"
   },
   "outputs": [],
   "source": [
    "data = load_dataset(image_size=224, sample_size=5000)\n",
    "data"
   ]
  },
  {
   "cell_type": "code",
   "execution_count": null,
   "metadata": {
    "colab": {
     "base_uri": "https://localhost:8080/",
     "height": 585
    },
    "executionInfo": {
     "elapsed": 14547,
     "status": "ok",
     "timestamp": 1605562243776,
     "user": {
      "displayName": "Doaa Altarawy",
      "photoUrl": "https://lh3.googleusercontent.com/a-/AOh14GgTyKaEU-p3dKM2bTRZzJsXYAyjJRA-Zt3-CkCTLA=s64",
      "userId": "15852237945509464181"
     },
     "user_tz": 300
    },
    "id": "1Db3XOQtyZY0",
    "outputId": "4eeeefdd-b6f8-4ddb-a34b-0a6890e488da"
   },
   "outputs": [],
   "source": [
    "data.show_batch(rows=3, figsize=(10,8), ds_type=DatasetType.Train)\n"
   ]
  },
  {
   "cell_type": "code",
   "execution_count": null,
   "metadata": {
    "colab": {
     "base_uri": "https://localhost:8080/"
    },
    "executionInfo": {
     "elapsed": 486,
     "status": "ok",
     "timestamp": 1605562251195,
     "user": {
      "displayName": "Doaa Altarawy",
      "photoUrl": "https://lh3.googleusercontent.com/a-/AOh14GgTyKaEU-p3dKM2bTRZzJsXYAyjJRA-Zt3-CkCTLA=s64",
      "userId": "15852237945509464181"
     },
     "user_tz": 300
    },
    "id": "kj1hyvzAyZY4",
    "outputId": "17fa5bbd-8499-4ca8-fa25-22f686d1b3fc"
   },
   "outputs": [],
   "source": [
    "# data.train_ds\n",
    "data.classes, len(data.train_ds), len(data.valid_ds), data.c"
   ]
  },
  {
   "cell_type": "code",
   "execution_count": null,
   "metadata": {
    "id": "JPoY4KuFyZY8"
   },
   "outputs": [],
   "source": [
    "# data.test_ds[0][0]"
   ]
  },
  {
   "cell_type": "markdown",
   "metadata": {
    "id": "XuzD6wYjyZZB"
   },
   "source": [
    "# Run training"
   ]
  },
  {
   "cell_type": "code",
   "execution_count": null,
   "metadata": {
    "executionInfo": {
     "elapsed": 285,
     "status": "ok",
     "timestamp": 1605580319666,
     "user": {
      "displayName": "Doaa Altarawy",
      "photoUrl": "https://lh3.googleusercontent.com/a-/AOh14GgTyKaEU-p3dKM2bTRZzJsXYAyjJRA-Zt3-CkCTLA=s64",
      "userId": "15852237945509464181"
     },
     "user_tz": 300
    },
    "id": "rhkaKwuNC2K8"
   },
   "outputs": [],
   "source": [
    "sample_size = 5001   # number of training images per class\n",
    "percent_gan_images = 10  # 25%\n",
    "confusion_matrix_filename = f'conf_mat_{sample_size}_{percent_gan_images}'\n",
    "print(confusion_matrix_filename)"
   ]
  },
  {
   "cell_type": "code",
   "execution_count": null,
   "metadata": {
    "colab": {
     "base_uri": "https://localhost:8080/",
     "height": 1000
    },
    "executionInfo": {
     "elapsed": 7634060,
     "status": "ok",
     "timestamp": 1605577115541,
     "user": {
      "displayName": "Doaa Altarawy",
      "photoUrl": "https://lh3.googleusercontent.com/a-/AOh14GgTyKaEU-p3dKM2bTRZzJsXYAyjJRA-Zt3-CkCTLA=s64",
      "userId": "15852237945509464181"
     },
     "user_tz": 300
    },
    "id": "F-v8S770yZZC",
    "outputId": "45e676ea-53c9-48e1-9cbe-b9b43769b17c"
   },
   "outputs": [],
   "source": [
    "run_training_sample(n_cycles=10,\n",
    "                    sample_size=sample_size, \n",
    "                    percent_gan_images=percent_gan_images,   # Percent of GAN generated COVID images to add\n",
    "                    confusion_matrix_filename=confusion_matrix_filename,\n",
    "                    with_oversampling=True,     # always use True\n",
    "                    with_weighted_loss=True)   # always use True"
   ]
  },
  {
   "cell_type": "markdown",
   "metadata": {
    "id": "xzxOrfE3yZZH"
   },
   "source": [
    "### Load training Confusion Matrix"
   ]
  },
  {
   "cell_type": "code",
   "execution_count": null,
   "metadata": {
    "colab": {
     "base_uri": "https://localhost:8080/"
    },
    "executionInfo": {
     "elapsed": 539,
     "status": "ok",
     "timestamp": 1605580325501,
     "user": {
      "displayName": "Doaa Altarawy",
      "photoUrl": "https://lh3.googleusercontent.com/a-/AOh14GgTyKaEU-p3dKM2bTRZzJsXYAyjJRA-Zt3-CkCTLA=s64",
      "userId": "15852237945509464181"
     },
     "user_tz": 300
    },
    "id": "IMpVkK1NyZZH",
    "outputId": "731ed0ef-ffbe-4e3c-dbec-431226990cb9"
   },
   "outputs": [],
   "source": [
    "train_mat = joblib.load(f'train_{confusion_matrix_filename}.pkl')\n",
    "# sum diagonal / all data_size *100\n",
    "accuracy = np.trace(train_mat) / train_mat.sum() * 100\n",
    "\n",
    "print(f'Accuracy: {accuracy:.2f}%')\n",
    "print(f'Confusion Matrix:\\n {train_mat}')"
   ]
  },
  {
   "cell_type": "markdown",
   "metadata": {
    "id": "CKa_PGFKyZZM"
   },
   "source": [
    "### For Validation confusion Matrix"
   ]
  },
  {
   "cell_type": "code",
   "execution_count": null,
   "metadata": {
    "colab": {
     "base_uri": "https://localhost:8080/"
    },
    "executionInfo": {
     "elapsed": 290,
     "status": "ok",
     "timestamp": 1605580329014,
     "user": {
      "displayName": "Doaa Altarawy",
      "photoUrl": "https://lh3.googleusercontent.com/a-/AOh14GgTyKaEU-p3dKM2bTRZzJsXYAyjJRA-Zt3-CkCTLA=s64",
      "userId": "15852237945509464181"
     },
     "user_tz": 300
    },
    "id": "eXfBhG3xyZZN",
    "outputId": "5cbdc4c5-c43f-4ce5-aeff-a3cc9377dc22"
   },
   "outputs": [],
   "source": [
    "valid_mat = joblib.load(f'valid_{confusion_matrix_filename}.pkl')\n",
    "# sum diagonal / all data_size *100\n",
    "accuracy = np.trace(valid_mat) / valid_mat.sum() * 100\n",
    "\n",
    "print(f'Accuracy: {accuracy:.2f}%')\n",
    "print(f'Confusion Matrix:\\n {valid_mat}')"
   ]
  },
  {
   "cell_type": "markdown",
   "metadata": {
    "id": "NZOIj7MYyZZQ"
   },
   "source": [
    "# Run evaluation (model has to be already trained) - slow on CPU"
   ]
  },
  {
   "cell_type": "code",
   "execution_count": null,
   "metadata": {
    "colab": {
     "base_uri": "https://localhost:8080/",
     "height": 592
    },
    "executionInfo": {
     "elapsed": 365333,
     "status": "ok",
     "timestamp": 1605580705240,
     "user": {
      "displayName": "Doaa Altarawy",
      "photoUrl": "https://lh3.googleusercontent.com/a-/AOh14GgTyKaEU-p3dKM2bTRZzJsXYAyjJRA-Zt3-CkCTLA=s64",
      "userId": "15852237945509464181"
     },
     "user_tz": 300
    },
    "id": "OBKVxDP0yZZR",
    "outputId": "3efa2bcd-be5c-4710-8e04-305134d43b35",
    "scrolled": true
   },
   "outputs": [],
   "source": [
    "# Evaluate test set (ds_type='test')\n",
    "# Will load the correct saved model based on the given parameters\n",
    "\n",
    "test_conf_mat, test_accuracy = predict_dataset(ds_type='test', \n",
    "                                               cpu=False,   # set to False if running on GPUs\n",
    "                                               sample_size=sample_size,  \n",
    "                                               percent_gan_images=percent_gan_images,\n",
    "                                               with_oversampling=True,   # always use True\n",
    "                                               with_weighted_loss=True,  # always use True\n",
    "                                               confusion_matrix_filename=confusion_matrix_filename\n",
    "                                              )"
   ]
  },
  {
   "cell_type": "code",
   "execution_count": null,
   "metadata": {
    "colab": {
     "base_uri": "https://localhost:8080/"
    },
    "executionInfo": {
     "elapsed": 324,
     "status": "ok",
     "timestamp": 1605580727198,
     "user": {
      "displayName": "Doaa Altarawy",
      "photoUrl": "https://lh3.googleusercontent.com/a-/AOh14GgTyKaEU-p3dKM2bTRZzJsXYAyjJRA-Zt3-CkCTLA=s64",
      "userId": "15852237945509464181"
     },
     "user_tz": 300
    },
    "id": "otKqjD8YyZZU",
    "outputId": "dd139b38-b6fb-4178-c27e-329b957479f8"
   },
   "outputs": [],
   "source": [
    "test_conf_mat = joblib.load(f'test_{confusion_matrix_filename}.pkl')\n",
    "# sum diagonal / all data_size *100\n",
    "test_accuracy = np.trace(test_conf_mat) / test_conf_mat.sum() * 100\n",
    "\n",
    "print(f'Test Accuracy: {test_accuracy:.2f}%')\n",
    "print(f'Test Confusion Matrix:\\n {test_conf_mat}') "
   ]
  },
  {
   "cell_type": "code",
   "execution_count": null,
   "metadata": {
    "id": "PmikOIbWyZZZ",
    "scrolled": true
   },
   "outputs": [],
   "source": []
  },
  {
   "cell_type": "markdown",
   "metadata": {
    "id": "hcbp3yqxyZZd"
   },
   "source": [
    "# Play with the model"
   ]
  },
  {
   "cell_type": "code",
   "execution_count": null,
   "metadata": {
    "id": "yvpEAoVoyZZd",
    "outputId": "e1cdcf7d-f58c-4783-9e87-7ed662b2e596"
   },
   "outputs": [],
   "source": [
    "learn.predict(data.test_ds[0][0])"
   ]
  },
  {
   "cell_type": "code",
   "execution_count": null,
   "metadata": {
    "id": "gGPxSNmUyZZh"
   },
   "outputs": [],
   "source": []
  },
  {
   "cell_type": "code",
   "execution_count": null,
   "metadata": {},
   "outputs": [],
   "source": []
  }
 ],
 "metadata": {
  "accelerator": "GPU",
  "colab": {
   "collapsed_sections": [],
   "name": "04-train_predict.ipynb",
   "provenance": []
  },
  "kernelspec": {
   "display_name": "Python 3",
   "language": "python",
   "name": "python3"
  },
  "language_info": {
   "codemirror_mode": {
    "name": "ipython",
    "version": 3
   },
   "file_extension": ".py",
   "mimetype": "text/x-python",
   "name": "python",
   "nbconvert_exporter": "python",
   "pygments_lexer": "ipython3",
   "version": "3.8.3"
  }
 },
 "nbformat": 4,
 "nbformat_minor": 1
}
